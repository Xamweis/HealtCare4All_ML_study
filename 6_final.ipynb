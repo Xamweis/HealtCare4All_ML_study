{
 "cells": [
  {
   "cell_type": "code",
   "execution_count": 12,
   "metadata": {},
   "outputs": [],
   "source": [
    "import pandas as pd"
   ]
  },
  {
   "cell_type": "code",
   "execution_count": 13,
   "metadata": {},
   "outputs": [],
   "source": [
    "# load predictions (incl. real)\n",
    "preds = pd.read_csv('files_for_lab/predictions.csv')"
   ]
  },
  {
   "cell_type": "code",
   "execution_count": 14,
   "metadata": {},
   "outputs": [
    {
     "name": "stdout",
     "output_type": "stream",
     "text": [
      "Money spend for mailing (0.68€ per mail):\n",
      "\n",
      "real cost:         64880 € for all of 95412 clients.\n",
      "predicted cost:    24887 € for 36598 of 95412 clients.\n"
     ]
    }
   ],
   "source": [
    "# calc cost of mailing effort (0.68 per mail) for ...\n",
    "\n",
    "# real (all) clients\n",
    "n_clients = len(preds)\n",
    "cost_real = round(n_clients*0.68, 2)\n",
    "\n",
    "# predicted clients\n",
    "n_predicted = preds['PREDICT_B'].value_counts().loc[1]\n",
    "cost_predicted = round(n_predicted*0.68, 2)\n",
    "\n",
    "print('Money spend for mailing (0.68€ per mail):\\n')\n",
    "print(f'real cost: {cost_real:13.0f} € for all of {n_clients} clients.')\n",
    "print(f'predicted cost: {cost_predicted:8.0f} € for {n_predicted} of {n_clients} clients.')"
   ]
  },
  {
   "cell_type": "code",
   "execution_count": 15,
   "metadata": {},
   "outputs": [
    {
     "name": "stdout",
     "output_type": "stream",
     "text": [
      "Money recieved trough donation:\n",
      "\n",
      "real donos:   75669 €\n",
      "pred donos:   51649 €\n",
      "true real:    30608 €\n",
      "true pred:    47191 €\n"
     ]
    }
   ],
   "source": [
    "# calc total of donations with ...\n",
    "\n",
    "# real donors + real donations\n",
    "real_total = preds[preds['TARGET_B'] == 1]['TARGET_D'].sum()\n",
    "\n",
    "# predicted donors + predicted donations\n",
    "pred_total = preds[preds['PREDICT_B'] == 1]['SGDRegressor'].sum() * (654/8480) # false/true positives of model  --> only 654/8480 real donations\n",
    "\n",
    "# true predicted donors + real donations\n",
    "true_pos_real = preds[(preds['TARGET_B'] == 1)&(preds['PREDICT_B'] == 1)]['TARGET_D'].sum()\n",
    "\n",
    "# true predicted donors + predicted donations\n",
    "true_pos_pred = preds[(preds['TARGET_B'] == 1)&(preds['PREDICT_B'] == 1)]['SGDRegressor'].sum()\n",
    "\n",
    "print('Money recieved trough donation:\\n')\n",
    "print(f'real donos:{real_total:8.0f} €\\npred donos:{pred_total:8.0f} €\\ntrue real:{true_pos_real:9.0f} €\\ntrue pred:{true_pos_pred:9.0f} €')"
   ]
  },
  {
   "cell_type": "code",
   "execution_count": 16,
   "metadata": {},
   "outputs": [
    {
     "name": "stdout",
     "output_type": "stream",
     "text": [
      "Profit:\n",
      "\n",
      "real:        10789 €\n",
      "predicted:   26763 €\n",
      "true real:    5721 €\n",
      "true pred:   22304 €\n"
     ]
    }
   ],
   "source": [
    "# calc profit (total - cost) for ...\n",
    "\n",
    "# real donors + real donations + real cost\n",
    "real_profit = real_total - cost_real\n",
    "\n",
    "# predicted donors + predicted donations + predicted cost\n",
    "pred_profit = pred_total - cost_predicted\n",
    "\n",
    "# true predicted donors + real donations + predicted cost\n",
    "true_pos_profit = true_pos_pred - cost_predicted\n",
    "\n",
    "# true predicted donors + predicted donations + predicted cost\n",
    "true_real_profit = true_pos_real - cost_predicted\n",
    "\n",
    "print('Profit:\\n')\n",
    "print(f'real:{real_profit:13.0f} €\\npredicted:{pred_profit:8.0f} €\\ntrue real:{true_real_profit:8.0f} €\\ntrue pred:{true_pos_profit:8.0f} €')"
   ]
  }
 ],
 "metadata": {
  "kernelspec": {
   "display_name": "Python 3",
   "language": "python",
   "name": "python3"
  },
  "language_info": {
   "codemirror_mode": {
    "name": "ipython",
    "version": 3
   },
   "file_extension": ".py",
   "mimetype": "text/x-python",
   "name": "python",
   "nbconvert_exporter": "python",
   "pygments_lexer": "ipython3",
   "version": "3.10.6 (main, Nov 14 2022, 16:10:14) [GCC 11.3.0]"
  },
  "orig_nbformat": 4,
  "vscode": {
   "interpreter": {
    "hash": "e7370f93d1d0cde622a1f8e1c04877d8463912d04d973331ad4851f04de6915a"
   }
  }
 },
 "nbformat": 4,
 "nbformat_minor": 2
}
