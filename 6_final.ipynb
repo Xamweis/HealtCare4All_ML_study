{
 "cells": [
  {
   "cell_type": "code",
   "execution_count": 1,
   "metadata": {},
   "outputs": [],
   "source": [
    "import pandas as pd"
   ]
  },
  {
   "cell_type": "code",
   "execution_count": 2,
   "metadata": {},
   "outputs": [],
   "source": [
    "preds = pd.read_csv('files_for_lab/predictions.csv')"
   ]
  },
  {
   "cell_type": "code",
   "execution_count": 3,
   "metadata": {},
   "outputs": [
    {
     "name": "stdout",
     "output_type": "stream",
     "text": [
      "Money spend for mailing (0.68€ per mail):\n",
      "\n",
      "real cost:         64880 € for all of 95412 clients.\n",
      "predicted cost:    24887 € for 36598 of 95412 clients.\n"
     ]
    }
   ],
   "source": [
    "n_predicted = preds['PREDICT_B'].value_counts().loc[1]\n",
    "n_clients = len(preds)\n",
    "\n",
    "print('Money spend for mailing (0.68€ per mail):\\n')\n",
    "print(f'real cost: {round(n_clients*0.68, 2):13.0f} € for all of {n_clients} clients.')\n",
    "print(f'predicted cost: {round(n_predicted*0.68, 2):8.0f} € for {n_predicted} of {n_clients} clients.')"
   ]
  },
  {
   "cell_type": "code",
   "execution_count": 4,
   "metadata": {},
   "outputs": [
    {
     "name": "stdout",
     "output_type": "stream",
     "text": [
      "Money recieved trough donation:\n",
      "\n",
      "real donos:   75669 €\n",
      "pred donos:   51010 €\n",
      "true pos:     47191 €\n"
     ]
    }
   ],
   "source": [
    "real_total = preds[preds['TARGET_B'] == 1]['TARGET_D'].sum()\n",
    "\n",
    "# 8560.0/652.0 false/true positives of model  --> only 652/8560 real donations\n",
    "pred_total = preds[preds['PREDICT_B'] == 1]['SGDRegressor'].sum() * (652/8560)\n",
    "\n",
    "true_pos = preds[(preds['TARGET_B'] == 1)&(preds['PREDICT_B'] == 1)]['SGDRegressor'].sum()\n",
    "\n",
    "print('Money recieved trough donation:\\n')\n",
    "print(f'real donos:{real_total:8.0f} €\\npred donos:{pred_total:8.0f} €\\ntrue pos:{true_pos:10.0f} €')"
   ]
  },
  {
   "cell_type": "code",
   "execution_count": 5,
   "metadata": {},
   "outputs": [
    {
     "name": "stdout",
     "output_type": "stream",
     "text": [
      "Profit:\n",
      "\n",
      "real:        10789 €\n",
      "predicted:   26123 €\n",
      "true pos:    22304 €\n"
     ]
    }
   ],
   "source": [
    "# 8560.0/652.0 false/true positives of model  --> only 652/8560 real donations\n",
    "\n",
    "real_profit = real_total - round(n_clients*0.68, 2)\n",
    "pred_profit = pred_total - round(n_predicted*0.68, 2)\n",
    "true_pos_profit = true_pos - round(n_predicted*0.68, 2)\n",
    "\n",
    "print('Profit:\\n')\n",
    "print(f'real:{real_profit:13.0f} €\\npredicted:{pred_profit:8.0f} €\\ntrue pos:{true_pos_profit:9.0f} €')"
   ]
  }
 ],
 "metadata": {
  "kernelspec": {
   "display_name": "Python 3",
   "language": "python",
   "name": "python3"
  },
  "language_info": {
   "codemirror_mode": {
    "name": "ipython",
    "version": 3
   },
   "file_extension": ".py",
   "mimetype": "text/x-python",
   "name": "python",
   "nbconvert_exporter": "python",
   "pygments_lexer": "ipython3",
   "version": "3.10.6"
  },
  "orig_nbformat": 4,
  "vscode": {
   "interpreter": {
    "hash": "e7370f93d1d0cde622a1f8e1c04877d8463912d04d973331ad4851f04de6915a"
   }
  }
 },
 "nbformat": 4,
 "nbformat_minor": 2
}
