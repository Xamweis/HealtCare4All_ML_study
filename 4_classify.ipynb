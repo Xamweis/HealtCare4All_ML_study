{
 "cells": [
  {
   "cell_type": "code",
   "execution_count": 5,
   "metadata": {},
   "outputs": [],
   "source": [
    "import pandas as pd\n",
    "import numpy as np\n",
    "import matplotlib.pyplot as plt\n",
    "import seaborn as sns \n",
    "import warnings\n",
    "import pickle\n",
    "\n",
    "warnings.filterwarnings('ignore')\n",
    "pd.set_option('display.max_columns', None)"
   ]
  },
  {
   "cell_type": "code",
   "execution_count": 6,
   "metadata": {},
   "outputs": [],
   "source": [
    "# read in data and prediction csv\n",
    "nums = pd.read_csv('files_for_lab/var_nums.csv') # specify nums here from feature_selection\n",
    "cats = pd.read_csv('files_for_lab/categorical.csv').astype(object)\n",
    "preds = pd.read_csv('files_for_lab/predictions.csv')\n",
    "\n",
    "# read in model scaler and encoder\n",
    "model = pickle.load(open('model_scaler_encoder/LogisticRegression.sav', 'rb'))\n",
    "scaler = pickle.load(open('model_scaler_encoder/LR_scaler.sav', 'rb'))\n",
    "encoder = pickle.load(open('model_scaler_encoder/LR_encoder.sav', 'rb'))"
   ]
  },
  {
   "cell_type": "code",
   "execution_count": 11,
   "metadata": {},
   "outputs": [],
   "source": [
    "# scale and encode data, concat back together (no testing here)\n",
    "cats = pd.DataFrame(encoder.transform(cats))                                \n",
    "encoded = pd.DataFrame(encoder.transform(pd.DataFrame(cats)).toarray())     \n",
    "scaled = pd.DataFrame(scaler.transform(pd.DataFrame(nums)))\n",
    "\n",
    "X = pd.concat([encoded, scaled], axis=1)\n",
    "y = preds['TARGET_B']\n",
    "\n",
    "# add prediction to target data\n",
    "preds['PREDICT_B'] = model.predict(scaled) # X or scaled (depending on best model w/wo cats)"
   ]
  },
  {
   "cell_type": "code",
   "execution_count": 12,
   "metadata": {},
   "outputs": [
    {
     "data": {
      "text/plain": [
       "0    58814\n",
       "1    36598\n",
       "Name: PREDICT_B, dtype: int64"
      ]
     },
     "execution_count": 12,
     "metadata": {},
     "output_type": "execute_result"
    }
   ],
   "source": [
    "# view predicted conts\n",
    "preds['PREDICT_B'].value_counts()"
   ]
  },
  {
   "cell_type": "code",
   "execution_count": 13,
   "metadata": {},
   "outputs": [],
   "source": [
    "# save the predicted classes to csv\n",
    "preds.to_csv('files_for_lab/predictions.csv', index=False)"
   ]
  },
  {
   "cell_type": "code",
   "execution_count": 15,
   "metadata": {},
   "outputs": [],
   "source": [
    "# dummy for resaving without 'Unnamed: 0'\n",
    "# pd.read_csv('files_for_lab/predictions.csv').drop(['Unnamed: 0'], axis=1).to_csv('files_for_lab/predictions.csv', index=False)"
   ]
  }
 ],
 "metadata": {
  "kernelspec": {
   "display_name": "Python 3",
   "language": "python",
   "name": "python3"
  },
  "language_info": {
   "codemirror_mode": {
    "name": "ipython",
    "version": 3
   },
   "file_extension": ".py",
   "mimetype": "text/x-python",
   "name": "python",
   "nbconvert_exporter": "python",
   "pygments_lexer": "ipython3",
   "version": "3.10.6 (main, Nov 14 2022, 16:10:14) [GCC 11.3.0]"
  },
  "orig_nbformat": 4,
  "vscode": {
   "interpreter": {
    "hash": "e7370f93d1d0cde622a1f8e1c04877d8463912d04d973331ad4851f04de6915a"
   }
  }
 },
 "nbformat": 4,
 "nbformat_minor": 2
}
