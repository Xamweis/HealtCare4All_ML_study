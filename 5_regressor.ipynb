{
 "cells": [
  {
   "cell_type": "code",
   "execution_count": 135,
   "metadata": {},
   "outputs": [],
   "source": [
    "import pandas as pd\n",
    "import numpy as np\n",
    "import matplotlib.pyplot as plt\n",
    "import seaborn as sns \n",
    "import warnings\n",
    "import pickle\n",
    "\n",
    "warnings.filterwarnings('ignore')\n",
    "pd.set_option('display.max_columns', None)"
   ]
  },
  {
   "cell_type": "code",
   "execution_count": 136,
   "metadata": {},
   "outputs": [],
   "source": [
    "from sklearn.preprocessing import MinMaxScaler\n",
    "from sklearn.preprocessing import OneHotEncoder\n",
    "from sklearn.model_selection import train_test_split\n",
    "\n",
    "# function to train-test-split data and treat it\n",
    "\n",
    "def split_and_treat_data(X, y, encode_cats=True, scale_nums=True, randomstate=None):\n",
    "    # splitting\n",
    "    X_train, X_test, y_train, y_test = train_test_split(X, y, random_state=randomstate)\n",
    "\n",
    "    # transforming numericals\n",
    "    if scale_nums:\n",
    "        transformer = MinMaxScaler().fit(X_train.select_dtypes(np.number))\n",
    "\n",
    "        cols_nums = X.select_dtypes(np.number).columns\n",
    "        \n",
    "        X_train_norm = pd.DataFrame(transformer.transform(X_train.select_dtypes(np.number)), columns=cols_nums)\n",
    "        X_test_norm = pd.DataFrame(transformer.transform(X_test.select_dtypes(np.number)), columns=cols_nums)\n",
    "    else:\n",
    "        X_train_norm = X_train.select_dtypes(np.number)\n",
    "        X_test_norm = X_test.select_dtypes(np.number)\n",
    "\n",
    "    # encoding categoricals\n",
    "    if encode_cats:\n",
    "        encoder = OneHotEncoder(drop='first', handle_unknown='ignore').fit(pd.DataFrame(X_train.select_dtypes(object)))\n",
    "\n",
    "        encoded_train = encoder.transform(pd.DataFrame(X_train.select_dtypes(object))).toarray()\n",
    "        encoded_test = encoder.transform(pd.DataFrame(X_test.select_dtypes(object))).toarray()\n",
    "\n",
    "        cols_cats = encoder.get_feature_names_out(input_features=X_train.select_dtypes(object).columns)\n",
    "\n",
    "        onehot_encoded_cats_train = pd.DataFrame(encoded_train, columns=cols_cats).astype(object)\n",
    "        onehot_encoded_cats_test = pd.DataFrame(encoded_test, columns=cols_cats).astype(object)\n",
    "    else:\n",
    "        onehot_encoded_cats_train = X_train.select_dtypes(object)\n",
    "        onehot_encoded_cats_test = X_test.select_dtypes(object)\n",
    "\n",
    "\n",
    "    # concat cats + nums back together\n",
    "    X_train_treated = pd.concat([X_train_norm, onehot_encoded_cats_train], axis=1)\n",
    "    X_test_treated = pd.concat([X_test_norm, onehot_encoded_cats_test], axis=1)\n",
    "\n",
    "    return X_train_treated.reset_index(drop=True), X_test_treated, y_train.reset_index(drop=True), y_test"
   ]
  },
  {
   "cell_type": "code",
   "execution_count": 137,
   "metadata": {},
   "outputs": [],
   "source": [
    "from sklearn.linear_model import LinearRegression\n",
    "from sklearn.tree import DecisionTreeRegressor\n",
    "from sklearn.neighbors import KNeighborsRegressor\n",
    "from sklearn.model_selection import GridSearchCV\n",
    "from sklearn.linear_model import SGDRegressor\n",
    "from sklearn.linear_model import ElasticNetCV\n",
    "from sklearn.neural_network import MLPRegressor"
   ]
  },
  {
   "cell_type": "code",
   "execution_count": 138,
   "metadata": {},
   "outputs": [],
   "source": [
    "# read in data\n",
    "nums = pd.read_csv('files_for_lab/var_nums.csv')\n",
    "cats = pd.read_csv('files_for_lab/categorical.csv')\n",
    "targets = pd.read_csv('files_for_lab/target.csv')\n",
    "\n",
    "has_donated = targets['TARGET_B']\n",
    "y = targets['TARGET_D']\n",
    "X = pd.concat([cats, nums], axis=1)"
   ]
  },
  {
   "cell_type": "code",
   "execution_count": 139,
   "metadata": {},
   "outputs": [],
   "source": [
    "# filter donors\n",
    "X_donors = X[has_donated == 1]\n",
    "y_donors = y[has_donated == 1]"
   ]
  },
  {
   "cell_type": "code",
   "execution_count": 140,
   "metadata": {},
   "outputs": [],
   "source": [
    "# scale and encode data, concat back together (no testing here)\n",
    "X_train, X_test, y_train, y_test = split_and_treat_data(X_donors, y_donors) "
   ]
  },
  {
   "cell_type": "code",
   "execution_count": 141,
   "metadata": {},
   "outputs": [],
   "source": [
    "# regr = DecisionTreeRegressor()\n",
    "\n",
    "# grid = {'max_depth': [3,5,10,20,None],\n",
    "#         'criterion': ['squared_error','absolute_error'],\n",
    "#         'min_samples_split': [2,5,10,20],\n",
    "#         'min_samples_leaf': [2,5,10,20]}\n",
    "\n",
    "# grid_search = GridSearchCV(estimator=regr, param_grid=grid, cv=5, n_jobs=-1)\n",
    "# grid_search.fit(X_train, y_train)"
   ]
  },
  {
   "cell_type": "code",
   "execution_count": 142,
   "metadata": {},
   "outputs": [],
   "source": [
    "# grid_search.best_params_"
   ]
  },
  {
   "cell_type": "code",
   "execution_count": 143,
   "metadata": {},
   "outputs": [],
   "source": [
    "# scale and encode data, concat back together (no testing here)\n",
    "xtr,xte,ytr,yte = split_and_treat_data(X,y) # we only take var_nums here without cats\n",
    "X_treated = pd.concat([xtr,xte], axis=0)\n",
    "\n",
    "# load classified data (predictions)\n",
    "preds = pd.read_csv('files_for_lab/predictions.csv')"
   ]
  },
  {
   "cell_type": "code",
   "execution_count": 144,
   "metadata": {},
   "outputs": [],
   "source": [
    "from sklearn.model_selection import cross_validate\n",
    "\n",
    "def fit_predict(model, X_train, y_train, X_test, y_test):\n",
    "    model_name = str(model).split('(')[0]\n",
    "    model.fit(X_train, y_train)\n",
    "\n",
    "    # add prediction to target data\n",
    "    preds[model_name] = model.predict(X_treated)\n",
    "    preds[model_name] = preds[model_name].apply(lambda x: round(x, 2))\n",
    "\n",
    "    print('score', model_name, '>>>', model.score(X_test, y_test))"
   ]
  },
  {
   "cell_type": "code",
   "execution_count": 145,
   "metadata": {},
   "outputs": [
    {
     "data": {
      "text/plain": [
       "0.42323709744694094"
      ]
     },
     "execution_count": 145,
     "metadata": {},
     "output_type": "execute_result"
    }
   ],
   "source": [
    "m = LinearRegression()\n",
    "m.fit(X_train, y_train)\n",
    "m.score(X_test, y_test)"
   ]
  },
  {
   "cell_type": "code",
   "execution_count": 146,
   "metadata": {},
   "outputs": [],
   "source": [
    "models = [\n",
    "    DecisionTreeRegressor(criterion= 'squared_error', max_depth=3, min_samples_leaf=5, min_samples_split=2),\n",
    "    LinearRegression(), KNeighborsRegressor(n_neighbors=3), SGDRegressor(), ElasticNetCV(), MLPRegressor(),\n",
    "    ]\n"
   ]
  },
  {
   "cell_type": "code",
   "execution_count": 147,
   "metadata": {},
   "outputs": [
    {
     "name": "stdout",
     "output_type": "stream",
     "text": [
      "score DecisionTreeRegressor >>> 0.357270569564633\n",
      "score LinearRegression >>> 0.42323709744694094\n",
      "score KNeighborsRegressor >>> 0.11025279795429133\n",
      "score SGDRegressor >>> 0.42536143647238445\n",
      "score ElasticNetCV >>> 0.4300333204900022\n",
      "score MLPRegressor >>> 0.3841126949777013\n"
     ]
    }
   ],
   "source": [
    "for regressor in models:\n",
    "    fit_predict(regressor, X_train, y_train, X_test, y_test)"
   ]
  },
  {
   "cell_type": "code",
   "execution_count": 148,
   "metadata": {},
   "outputs": [
    {
     "data": {
      "text/plain": [
       "90938.69"
      ]
     },
     "execution_count": 148,
     "metadata": {},
     "output_type": "execute_result"
    }
   ],
   "source": [
    "preds[preds['TARGET_B'] == 1]['MLPRegressor'].sum()"
   ]
  },
  {
   "cell_type": "code",
   "execution_count": 150,
   "metadata": {},
   "outputs": [
    {
     "data": {
      "text/html": [
       "<div>\n",
       "<style scoped>\n",
       "    .dataframe tbody tr th:only-of-type {\n",
       "        vertical-align: middle;\n",
       "    }\n",
       "\n",
       "    .dataframe tbody tr th {\n",
       "        vertical-align: top;\n",
       "    }\n",
       "\n",
       "    .dataframe thead th {\n",
       "        text-align: right;\n",
       "    }\n",
       "</style>\n",
       "<table border=\"1\" class=\"dataframe\">\n",
       "  <thead>\n",
       "    <tr style=\"text-align: right;\">\n",
       "      <th></th>\n",
       "      <th>TARGET_B</th>\n",
       "      <th>TARGET_D</th>\n",
       "      <th>PREDICT_B_2</th>\n",
       "      <th>DecisionTreeRegressor</th>\n",
       "      <th>LinearRegression</th>\n",
       "      <th>KNeighborsRegressor</th>\n",
       "      <th>SGDRegressor</th>\n",
       "      <th>ElasticNetCV</th>\n",
       "      <th>MLPRegressor</th>\n",
       "    </tr>\n",
       "  </thead>\n",
       "  <tbody>\n",
       "    <tr>\n",
       "      <th>30</th>\n",
       "      <td>1</td>\n",
       "      <td>7.0</td>\n",
       "      <td>1</td>\n",
       "      <td>26.97</td>\n",
       "      <td>33.71</td>\n",
       "      <td>10.67</td>\n",
       "      <td>31.34</td>\n",
       "      <td>31.63</td>\n",
       "      <td>36.80</td>\n",
       "    </tr>\n",
       "    <tr>\n",
       "      <th>273</th>\n",
       "      <td>1</td>\n",
       "      <td>10.0</td>\n",
       "      <td>1</td>\n",
       "      <td>10.64</td>\n",
       "      <td>10.26</td>\n",
       "      <td>13.33</td>\n",
       "      <td>10.68</td>\n",
       "      <td>10.09</td>\n",
       "      <td>12.40</td>\n",
       "    </tr>\n",
       "    <tr>\n",
       "      <th>633</th>\n",
       "      <td>1</td>\n",
       "      <td>11.0</td>\n",
       "      <td>1</td>\n",
       "      <td>10.64</td>\n",
       "      <td>9.55</td>\n",
       "      <td>10.67</td>\n",
       "      <td>9.94</td>\n",
       "      <td>9.45</td>\n",
       "      <td>9.92</td>\n",
       "    </tr>\n",
       "    <tr>\n",
       "      <th>738</th>\n",
       "      <td>1</td>\n",
       "      <td>4.0</td>\n",
       "      <td>1</td>\n",
       "      <td>18.70</td>\n",
       "      <td>16.85</td>\n",
       "      <td>18.33</td>\n",
       "      <td>16.40</td>\n",
       "      <td>16.11</td>\n",
       "      <td>17.52</td>\n",
       "    </tr>\n",
       "    <tr>\n",
       "      <th>794</th>\n",
       "      <td>1</td>\n",
       "      <td>20.0</td>\n",
       "      <td>1</td>\n",
       "      <td>18.70</td>\n",
       "      <td>17.32</td>\n",
       "      <td>14.67</td>\n",
       "      <td>18.00</td>\n",
       "      <td>17.27</td>\n",
       "      <td>21.60</td>\n",
       "    </tr>\n",
       "    <tr>\n",
       "      <th>...</th>\n",
       "      <td>...</td>\n",
       "      <td>...</td>\n",
       "      <td>...</td>\n",
       "      <td>...</td>\n",
       "      <td>...</td>\n",
       "      <td>...</td>\n",
       "      <td>...</td>\n",
       "      <td>...</td>\n",
       "      <td>...</td>\n",
       "    </tr>\n",
       "    <tr>\n",
       "      <th>93896</th>\n",
       "      <td>1</td>\n",
       "      <td>25.0</td>\n",
       "      <td>1</td>\n",
       "      <td>18.70</td>\n",
       "      <td>18.26</td>\n",
       "      <td>18.67</td>\n",
       "      <td>18.19</td>\n",
       "      <td>18.03</td>\n",
       "      <td>16.35</td>\n",
       "    </tr>\n",
       "    <tr>\n",
       "      <th>93973</th>\n",
       "      <td>1</td>\n",
       "      <td>12.0</td>\n",
       "      <td>1</td>\n",
       "      <td>15.83</td>\n",
       "      <td>14.66</td>\n",
       "      <td>25.33</td>\n",
       "      <td>14.86</td>\n",
       "      <td>14.61</td>\n",
       "      <td>18.40</td>\n",
       "    </tr>\n",
       "    <tr>\n",
       "      <th>94683</th>\n",
       "      <td>1</td>\n",
       "      <td>26.0</td>\n",
       "      <td>1</td>\n",
       "      <td>15.83</td>\n",
       "      <td>17.57</td>\n",
       "      <td>19.33</td>\n",
       "      <td>17.35</td>\n",
       "      <td>17.45</td>\n",
       "      <td>15.20</td>\n",
       "    </tr>\n",
       "    <tr>\n",
       "      <th>94828</th>\n",
       "      <td>1</td>\n",
       "      <td>30.0</td>\n",
       "      <td>1</td>\n",
       "      <td>15.83</td>\n",
       "      <td>16.89</td>\n",
       "      <td>19.67</td>\n",
       "      <td>15.55</td>\n",
       "      <td>15.50</td>\n",
       "      <td>17.87</td>\n",
       "    </tr>\n",
       "    <tr>\n",
       "      <th>95229</th>\n",
       "      <td>1</td>\n",
       "      <td>15.0</td>\n",
       "      <td>1</td>\n",
       "      <td>18.70</td>\n",
       "      <td>20.42</td>\n",
       "      <td>18.33</td>\n",
       "      <td>20.39</td>\n",
       "      <td>19.78</td>\n",
       "      <td>22.57</td>\n",
       "    </tr>\n",
       "  </tbody>\n",
       "</table>\n",
       "<p>372 rows × 9 columns</p>\n",
       "</div>"
      ],
      "text/plain": [
       "       TARGET_B  TARGET_D  PREDICT_B_2  DecisionTreeRegressor  \\\n",
       "30            1       7.0            1                  26.97   \n",
       "273           1      10.0            1                  10.64   \n",
       "633           1      11.0            1                  10.64   \n",
       "738           1       4.0            1                  18.70   \n",
       "794           1      20.0            1                  18.70   \n",
       "...         ...       ...          ...                    ...   \n",
       "93896         1      25.0            1                  18.70   \n",
       "93973         1      12.0            1                  15.83   \n",
       "94683         1      26.0            1                  15.83   \n",
       "94828         1      30.0            1                  15.83   \n",
       "95229         1      15.0            1                  18.70   \n",
       "\n",
       "       LinearRegression  KNeighborsRegressor  SGDRegressor  ElasticNetCV  \\\n",
       "30                33.71                10.67         31.34         31.63   \n",
       "273               10.26                13.33         10.68         10.09   \n",
       "633                9.55                10.67          9.94          9.45   \n",
       "738               16.85                18.33         16.40         16.11   \n",
       "794               17.32                14.67         18.00         17.27   \n",
       "...                 ...                  ...           ...           ...   \n",
       "93896             18.26                18.67         18.19         18.03   \n",
       "93973             14.66                25.33         14.86         14.61   \n",
       "94683             17.57                19.33         17.35         17.45   \n",
       "94828             16.89                19.67         15.55         15.50   \n",
       "95229             20.42                18.33         20.39         19.78   \n",
       "\n",
       "       MLPRegressor  \n",
       "30            36.80  \n",
       "273           12.40  \n",
       "633            9.92  \n",
       "738           17.52  \n",
       "794           21.60  \n",
       "...             ...  \n",
       "93896         16.35  \n",
       "93973         18.40  \n",
       "94683         15.20  \n",
       "94828         17.87  \n",
       "95229         22.57  \n",
       "\n",
       "[372 rows x 9 columns]"
      ]
     },
     "execution_count": 150,
     "metadata": {},
     "output_type": "execute_result"
    }
   ],
   "source": [
    "preds[(preds['TARGET_B'] == 1)&(preds['PREDICT_B_2'] == 1)]"
   ]
  },
  {
   "cell_type": "code",
   "execution_count": 151,
   "metadata": {},
   "outputs": [],
   "source": [
    "preds.to_csv('files_for_lab/predictions.csv', index=False)"
   ]
  }
 ],
 "metadata": {
  "kernelspec": {
   "display_name": "Python 3",
   "language": "python",
   "name": "python3"
  },
  "language_info": {
   "codemirror_mode": {
    "name": "ipython",
    "version": 3
   },
   "file_extension": ".py",
   "mimetype": "text/x-python",
   "name": "python",
   "nbconvert_exporter": "python",
   "pygments_lexer": "ipython3",
   "version": "3.10.6 (main, Nov 14 2022, 16:10:14) [GCC 11.3.0]"
  },
  "orig_nbformat": 4,
  "vscode": {
   "interpreter": {
    "hash": "e7370f93d1d0cde622a1f8e1c04877d8463912d04d973331ad4851f04de6915a"
   }
  }
 },
 "nbformat": 4,
 "nbformat_minor": 2
}
